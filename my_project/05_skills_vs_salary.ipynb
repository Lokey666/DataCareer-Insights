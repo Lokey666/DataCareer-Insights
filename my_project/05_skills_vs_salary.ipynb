{
 "cells": [
  {
   "cell_type": "code",
   "execution_count": 44,
   "id": "414c3aca",
   "metadata": {},
   "outputs": [],
   "source": [
    "import pandas as pd \n",
    "import matplotlib.pyplot as plt\n",
    "from matplotlib.ticker import FuncFormatter\n",
    "import ast\n",
    "import seaborn as sns\n",
    "from datasets import load_dataset\n",
    "\n",
    "dataset = load_dataset('lukebarousse/data_jobs')\n",
    "df = dataset['train'].to_pandas()\n",
    "\n",
    "df['job_posted_date'] = pd.to_datetime(df['job_posted_date'])\n",
    "df['job_skills'] = df['job_skills'].apply(lambda x: ast.literal_eval(x) if pd.notna(x) else x)"
   ]
  },
  {
   "cell_type": "code",
   "execution_count": 103,
   "id": "5bd179fa",
   "metadata": {},
   "outputs": [],
   "source": [
    "df_filter = df[(df['job_title_short'] == 'Data Analyst') & (df['job_country'] == 'India')].copy()"
   ]
  },
  {
   "cell_type": "code",
   "execution_count": 105,
   "id": "7d7911c8",
   "metadata": {},
   "outputs": [],
   "source": [
    "df_filter = df_filter.dropna(subset='salary_year_avg')"
   ]
  },
  {
   "cell_type": "code",
   "execution_count": 106,
   "id": "0e5eb0a4",
   "metadata": {},
   "outputs": [],
   "source": [
    "df_skills = df_filter.explode('job_skills')"
   ]
  },
  {
   "cell_type": "code",
   "execution_count": 107,
   "id": "e7a35818",
   "metadata": {},
   "outputs": [],
   "source": [
    "df_groupby = df_skills.groupby('job_skills')['salary_year_avg'].agg(['count','median'])"
   ]
  },
  {
   "cell_type": "code",
   "execution_count": 113,
   "id": "f1d2cec3",
   "metadata": {},
   "outputs": [
    {
     "data": {
      "text/html": [
       "<div>\n",
       "<style scoped>\n",
       "    .dataframe tbody tr th:only-of-type {\n",
       "        vertical-align: middle;\n",
       "    }\n",
       "\n",
       "    .dataframe tbody tr th {\n",
       "        vertical-align: top;\n",
       "    }\n",
       "\n",
       "    .dataframe thead th {\n",
       "        text-align: right;\n",
       "    }\n",
       "</style>\n",
       "<table border=\"1\" class=\"dataframe\">\n",
       "  <thead>\n",
       "    <tr style=\"text-align: right;\">\n",
       "      <th></th>\n",
       "      <th>count</th>\n",
       "      <th>median</th>\n",
       "    </tr>\n",
       "    <tr>\n",
       "      <th>job_skills</th>\n",
       "      <th></th>\n",
       "      <th></th>\n",
       "    </tr>\n",
       "  </thead>\n",
       "  <tbody>\n",
       "    <tr>\n",
       "      <th>pyspark</th>\n",
       "      <td>1</td>\n",
       "      <td>165000.0</td>\n",
       "    </tr>\n",
       "    <tr>\n",
       "      <th>linux</th>\n",
       "      <td>1</td>\n",
       "      <td>165000.0</td>\n",
       "    </tr>\n",
       "    <tr>\n",
       "      <th>gitlab</th>\n",
       "      <td>1</td>\n",
       "      <td>165000.0</td>\n",
       "    </tr>\n",
       "    <tr>\n",
       "      <th>mysql</th>\n",
       "      <td>1</td>\n",
       "      <td>165000.0</td>\n",
       "    </tr>\n",
       "    <tr>\n",
       "      <th>postgresql</th>\n",
       "      <td>1</td>\n",
       "      <td>165000.0</td>\n",
       "    </tr>\n",
       "    <tr>\n",
       "      <th>mongodb</th>\n",
       "      <td>6</td>\n",
       "      <td>163782.0</td>\n",
       "    </tr>\n",
       "    <tr>\n",
       "      <th>gdpr</th>\n",
       "      <td>2</td>\n",
       "      <td>163782.0</td>\n",
       "    </tr>\n",
       "    <tr>\n",
       "      <th>neo4j</th>\n",
       "      <td>1</td>\n",
       "      <td>163782.0</td>\n",
       "    </tr>\n",
       "    <tr>\n",
       "      <th>databricks</th>\n",
       "      <td>3</td>\n",
       "      <td>163782.0</td>\n",
       "    </tr>\n",
       "    <tr>\n",
       "      <th>scala</th>\n",
       "      <td>3</td>\n",
       "      <td>163782.0</td>\n",
       "    </tr>\n",
       "  </tbody>\n",
       "</table>\n",
       "</div>"
      ],
      "text/plain": [
       "            count    median\n",
       "job_skills                 \n",
       "pyspark         1  165000.0\n",
       "linux           1  165000.0\n",
       "gitlab          1  165000.0\n",
       "mysql           1  165000.0\n",
       "postgresql      1  165000.0\n",
       "mongodb         6  163782.0\n",
       "gdpr            2  163782.0\n",
       "neo4j           1  163782.0\n",
       "databricks      3  163782.0\n",
       "scala           3  163782.0"
      ]
     },
     "execution_count": 113,
     "metadata": {},
     "output_type": "execute_result"
    }
   ],
   "source": [
    "df_salary_sort = df_groupby.sort_values(by='median', ascending=False).head(10)\n",
    "df_salary_sort"
   ]
  },
  {
   "cell_type": "code",
   "execution_count": 114,
   "id": "f894e21a",
   "metadata": {},
   "outputs": [],
   "source": [
    "df_top_skills = df_skills.groupby('job_skills')['salary_year_avg'].agg(['count', 'median'])\n",
    "df_top_skills = df_top_skills.sort_values(by='count', ascending=False).head(10)\n",
    "df_top_skills = df_top_skills.sort_values(by='median', ascending=False)"
   ]
  },
  {
   "cell_type": "code",
   "execution_count": 115,
   "id": "927fe588",
   "metadata": {},
   "outputs": [
    {
     "data": {
      "image/png": "[encoded data removed]",
      "text/plain": [
       "<Figure size 640x480 with 2 Axes>"
      ]
     },
     "metadata": {},
     "output_type": "display_data"
    }
   ],
   "source": [
    "fig, ax = plt.subplots(2,1)\n",
    "sns.set_theme(style='ticks')\n",
    "\n",
    "sns.barplot(data=df_salary_sort, x='median', y=df_salary_sort.index, ax=ax[0], hue='median', palette='dark:b_r', legend=False)\n",
    "ax[0].set_title('Highest paid skills ')\n",
    "ax[0].set_xlabel(' ')\n",
    "ax[0].set_ylabel(' ')\n",
    "ax[0].xaxis.set_major_formatter(plt.FuncFormatter(lambda x, pos:f'${int(x/1000)}k'))\n",
    "\n",
    "\n",
    "sns.barplot(data=df_top_skills, x='median', y=df_top_skills.index, ax=ax[1], hue='median', palette='dark:b_r', legend=False)\n",
    "ax[1].set_title('Top demand skills')\n",
    "ax[1].set_xlabel('Salary')\n",
    "ax[1].set_ylabel(' ')\n",
    "ax[1].set_xlim(0,160000)\n",
    "ax[1].xaxis.set_major_formatter(plt.FuncFormatter(lambda x, pos:f'${int(x/1000)}k'))\n",
    "\n",
    "fig.tight_layout()\n",
    "sns.despine()"
   ]
  },
  {
   "cell_type": "code",
   "execution_count": null,
   "id": "4943cd8b",
   "metadata": {},
   "outputs": [
    {
     "data": {
      "text/plain": [
       "165000.0"
      ]
     },
     "execution_count": 61,
     "metadata": {},
     "output_type": "execute_result"
    }
   ],
   "source": []
  },
  {
   "cell_type": "code",
   "execution_count": null,
   "id": "770194fb",
   "metadata": {},
   "outputs": [],
   "source": []
  }
 ],
 "metadata": {
  "kernelspec": {
   "display_name": "myenv",
   "language": "python",
   "name": "python3"
  },
  "language_info": {
   "codemirror_mode": {
    "name": "ipython",
    "version": 3
   },
   "file_extension": ".py",
   "mimetype": "text/x-python",
   "name": "python",
   "nbconvert_exporter": "python",
   "pygments_lexer": "ipython3",
   "version": "3.11.13"
  }
 },
 "nbformat": 4,
 "nbformat_minor": 5
}
